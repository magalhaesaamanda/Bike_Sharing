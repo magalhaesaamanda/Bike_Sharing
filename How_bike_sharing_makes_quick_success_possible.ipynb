{
 "cells": [
  {
   "cell_type": "markdown",
   "id": "d8c44361",
   "metadata": {},
   "source": [
    "# How bike sharing makes quick success possible"
   ]
  },
  {
   "cell_type": "markdown",
   "id": "aa684988",
   "metadata": {},
   "source": [
    "### Info\n",
    "\n",
    "Meta data: http://DivvyBikes.com/datachallenge\n",
    "\n",
    "#### Variables from Trips Table:\n",
    "\n",
    "- trip_id: ID attached to each trip taken\n",
    "- starttime: day and time trip started, in CST\n",
    "- stoptime: day and time trip ended, in CST\n",
    "- bikeid: ID attached to each bike\n",
    "- tripduration: time of trip in seconds \n",
    "- from_station_name: name of station where trip originated\n",
    "- to_station_name: name of station where trip terminated \n",
    "- from_station_id: ID of station where trip originated\n",
    "- to_station_id: ID of station where trip terminated\n",
    "- usertype: \"Customer\" is a rider who purchased a 24-Hour Pass; \"Subscriber\" is a rider who purchased an Annual Membership\n",
    "- gender: gender of rider\n",
    "- birthyear: birth year of rider\n",
    "\n",
    "##### Notes:\n",
    "* First row contains column names\n",
    "* Total records = 759,789\n",
    "* Trips that did not include a start or end date were removed from original table.\n",
    "* Gender and birthday are only available for Subscribers\n",
    "\n",
    "\n",
    "#### Variables from Station Table:\n",
    "\n",
    "- name: station name    \n",
    "- latitude: station latitude\n",
    "- longitude: station longitude\n",
    "- dpcapacity: number of total docks at each station as of 2/7/2014\n",
    "- online date: date the station went live in the system"
   ]
  },
  {
   "cell_type": "markdown",
   "id": "16bd9751",
   "metadata": {},
   "source": [
    "## Importing libraries"
   ]
  },
  {
   "cell_type": "code",
   "execution_count": 9,
   "id": "c6e42dff",
   "metadata": {},
   "outputs": [],
   "source": [
    "import numpy as np\n",
    "import pandas as pd\n",
    "import plotly as px\n",
    "import matplotlib\n",
    "import matplotlib.pyplot as plt\n",
    "from datetime import datetime"
   ]
  },
  {
   "cell_type": "markdown",
   "id": "0f7cec50",
   "metadata": {},
   "source": [
    "## Funcions"
   ]
  },
  {
   "cell_type": "code",
   "execution_count": 129,
   "id": "f1bde580",
   "metadata": {},
   "outputs": [],
   "source": [
    "# Funcion to read the data\n",
    "def read_df(local):              \n",
    "    for df in local:\n",
    "        dataframe = pd.read_csv(df, sep = ',', low_memory=False)\n",
    "        dataframe['starttime'] = pd.to_datetime(dataframe.starttime)\n",
    "        dataframe['stoptime'] = pd.to_datetime(dataframe.stoptime)\n",
    "        yield dataframe\n",
    "        \n",
    "# Funcion to analyse the data\n",
    "\n",
    "def analyse(dataframe):    \n",
    "    print(f'''A quantidade de dados faltosos:\\n\\n{dataframe.isna().sum()}''')"
   ]
  },
  {
   "cell_type": "markdown",
   "id": "f43b7646",
   "metadata": {},
   "source": [
    "## Reading the data"
   ]
  },
  {
   "cell_type": "code",
   "execution_count": 134,
   "id": "00c93704",
   "metadata": {
    "scrolled": true
   },
   "outputs": [
    {
     "ename": "NameError",
     "evalue": "name 'df' is not defined",
     "output_type": "error",
     "traceback": [
      "\u001b[1;31m---------------------------------------------------------------------------\u001b[0m",
      "\u001b[1;31mNameError\u001b[0m                                 Traceback (most recent call last)",
      "Cell \u001b[1;32mIn[134], line 7\u001b[0m\n\u001b[0;32m      1\u001b[0m \u001b[38;5;124;03m'''dataframes = [users_2013, users_2014_1, users_2014_2, users_2015_1, users_2015_2, users_2016_1, users_2016_2, users_2017_1, \u001b[39;00m\n\u001b[0;32m      2\u001b[0m \u001b[38;5;124;03m              users_2017_2, users_2018_1, users_2018_2, users_2019_1, users_2019_2, users_2020_1, users_2020_2, users_2021_1,\u001b[39;00m\n\u001b[0;32m      3\u001b[0m \u001b[38;5;124;03m              users_2021_2, users_2022_1, users_2022_2, users_2023_1]'''\u001b[39;00m\n\u001b[0;32m      4\u001b[0m localhost \u001b[38;5;241m=\u001b[39m [\u001b[38;5;124mr\u001b[39m\u001b[38;5;124m\"\u001b[39m\u001b[38;5;124mC:\u001b[39m\u001b[38;5;124m\\\u001b[39m\u001b[38;5;124mUsers\u001b[39m\u001b[38;5;124m\\\u001b[39m\u001b[38;5;124mamand\u001b[39m\u001b[38;5;124m\\\u001b[39m\u001b[38;5;124mOneDrive\u001b[39m\u001b[38;5;124m\\\u001b[39m\u001b[38;5;124mDocumentos\u001b[39m\u001b[38;5;124m\\\u001b[39m\u001b[38;5;124mGit_Amanda\u001b[39m\u001b[38;5;124m\\\u001b[39m\u001b[38;5;124mDados\u001b[39m\u001b[38;5;124m\\\u001b[39m\u001b[38;5;124mBiking_Share\u001b[39m\u001b[38;5;124m\\\u001b[39m\u001b[38;5;124m2013\u001b[39m\u001b[38;5;124m\\\u001b[39m\u001b[38;5;124mDivvy_Stations_Trips_2013\u001b[39m\u001b[38;5;124m\\\u001b[39m\u001b[38;5;124mDivvy_Trips_2013.csv\u001b[39m\u001b[38;5;124m\"\u001b[39m,\n\u001b[0;32m      5\u001b[0m              \u001b[38;5;124mr\u001b[39m\u001b[38;5;124m\"\u001b[39m\u001b[38;5;124mC:\u001b[39m\u001b[38;5;124m\\\u001b[39m\u001b[38;5;124mUsers\u001b[39m\u001b[38;5;124m\\\u001b[39m\u001b[38;5;124mamand\u001b[39m\u001b[38;5;124m\\\u001b[39m\u001b[38;5;124mOneDrive\u001b[39m\u001b[38;5;124m\\\u001b[39m\u001b[38;5;124mDocumentos\u001b[39m\u001b[38;5;124m\\\u001b[39m\u001b[38;5;124mGit_Amanda\u001b[39m\u001b[38;5;124m\\\u001b[39m\u001b[38;5;124mDados\u001b[39m\u001b[38;5;124m\\\u001b[39m\u001b[38;5;124mBiking_Share\u001b[39m\u001b[38;5;124m\\\u001b[39m\u001b[38;5;124m2014_Q1_Q2\u001b[39m\u001b[38;5;124m\\\u001b[39m\u001b[38;5;124mDivvy_Trips_2014_Q1Q2.csv\u001b[39m\u001b[38;5;124m\"\u001b[39m,\n\u001b[0;32m      6\u001b[0m             ] \n\u001b[1;32m----> 7\u001b[0m users_2013, users_2014_1 \u001b[38;5;241m=\u001b[39m read_df([localhost[\u001b[38;5;241m0\u001b[39m], localhost[\u001b[38;5;241m1\u001b[39m]])\n",
      "Cell \u001b[1;32mIn[129], line 3\u001b[0m, in \u001b[0;36mread_df\u001b[1;34m(local)\u001b[0m\n\u001b[0;32m      2\u001b[0m \u001b[38;5;28;01mdef\u001b[39;00m \u001b[38;5;21mread_df\u001b[39m(local):              \n\u001b[1;32m----> 3\u001b[0m     dataframe \u001b[38;5;241m=\u001b[39m pd\u001b[38;5;241m.\u001b[39mread_csv(\u001b[43mdf\u001b[49m, sep \u001b[38;5;241m=\u001b[39m \u001b[38;5;124m'\u001b[39m\u001b[38;5;124m,\u001b[39m\u001b[38;5;124m'\u001b[39m, low_memory\u001b[38;5;241m=\u001b[39m\u001b[38;5;28;01mFalse\u001b[39;00m)\n\u001b[0;32m      4\u001b[0m     dataframe[\u001b[38;5;124m'\u001b[39m\u001b[38;5;124mstarttime\u001b[39m\u001b[38;5;124m'\u001b[39m] \u001b[38;5;241m=\u001b[39m pd\u001b[38;5;241m.\u001b[39mto_datetime(dataframe\u001b[38;5;241m.\u001b[39mstarttime)\n\u001b[0;32m      5\u001b[0m     dataframe[\u001b[38;5;124m'\u001b[39m\u001b[38;5;124mstoptime\u001b[39m\u001b[38;5;124m'\u001b[39m] \u001b[38;5;241m=\u001b[39m pd\u001b[38;5;241m.\u001b[39mto_datetime(dataframe\u001b[38;5;241m.\u001b[39mstoptime)\n",
      "\u001b[1;31mNameError\u001b[0m: name 'df' is not defined"
     ]
    }
   ],
   "source": [
    "'''dataframes = [users_2013, users_2014_1, users_2014_2, users_2015_1, users_2015_2, users_2016_1, users_2016_2, users_2017_1, \n",
    "              users_2017_2, users_2018_1, users_2018_2, users_2019_1, users_2019_2, users_2020_1, users_2020_2, users_2021_1,\n",
    "              users_2021_2, users_2022_1, users_2022_2, users_2023_1]'''\n",
    "localhost = [r\"C:\\Users\\amand\\OneDrive\\Documentos\\Git_Amanda\\Dados\\Biking_Share\\2013\\Divvy_Stations_Trips_2013\\Divvy_Trips_2013.csv\",\n",
    "             r\"C:\\Users\\amand\\OneDrive\\Documentos\\Git_Amanda\\Dados\\Biking_Share\\2014_Q1_Q2\\Divvy_Trips_2014_Q1Q2.csv\",\n",
    "            ]\n",
    " \n",
    "users_2013, users_2014_1 = read_df(localhost)"
   ]
  },
  {
   "cell_type": "markdown",
   "id": "90f0ffc1",
   "metadata": {},
   "source": [
    "## Checking the data"
   ]
  },
  {
   "cell_type": "code",
   "execution_count": 70,
   "id": "04091859",
   "metadata": {},
   "outputs": [
    {
     "data": {
      "text/html": [
       "<div>\n",
       "<style scoped>\n",
       "    .dataframe tbody tr th:only-of-type {\n",
       "        vertical-align: middle;\n",
       "    }\n",
       "\n",
       "    .dataframe tbody tr th {\n",
       "        vertical-align: top;\n",
       "    }\n",
       "\n",
       "    .dataframe thead th {\n",
       "        text-align: right;\n",
       "    }\n",
       "</style>\n",
       "<table border=\"1\" class=\"dataframe\">\n",
       "  <thead>\n",
       "    <tr style=\"text-align: right;\">\n",
       "      <th></th>\n",
       "      <th>trip_id</th>\n",
       "      <th>starttime</th>\n",
       "      <th>stoptime</th>\n",
       "      <th>bikeid</th>\n",
       "      <th>tripduration</th>\n",
       "      <th>from_station_id</th>\n",
       "      <th>from_station_name</th>\n",
       "      <th>to_station_id</th>\n",
       "      <th>to_station_name</th>\n",
       "      <th>usertype</th>\n",
       "      <th>gender</th>\n",
       "      <th>birthday</th>\n",
       "      <th>stopttime</th>\n",
       "    </tr>\n",
       "  </thead>\n",
       "  <tbody>\n",
       "    <tr>\n",
       "      <th>0</th>\n",
       "      <td>4118</td>\n",
       "      <td>2013-06-27 12:11:00</td>\n",
       "      <td>2013-06-27 12:16</td>\n",
       "      <td>480</td>\n",
       "      <td>316</td>\n",
       "      <td>85</td>\n",
       "      <td>Michigan Ave &amp; Oak St</td>\n",
       "      <td>28</td>\n",
       "      <td>Larrabee St &amp; Menomonee St</td>\n",
       "      <td>Customer</td>\n",
       "      <td>NaN</td>\n",
       "      <td>NaN</td>\n",
       "      <td>2013-06-27 12:16:00</td>\n",
       "    </tr>\n",
       "    <tr>\n",
       "      <th>1</th>\n",
       "      <td>4275</td>\n",
       "      <td>2013-06-27 14:44:00</td>\n",
       "      <td>2013-06-27 14:45</td>\n",
       "      <td>77</td>\n",
       "      <td>64</td>\n",
       "      <td>32</td>\n",
       "      <td>Racine Ave &amp; Congress Pkwy</td>\n",
       "      <td>32</td>\n",
       "      <td>Racine Ave &amp; Congress Pkwy</td>\n",
       "      <td>Customer</td>\n",
       "      <td>NaN</td>\n",
       "      <td>NaN</td>\n",
       "      <td>2013-06-27 14:45:00</td>\n",
       "    </tr>\n",
       "    <tr>\n",
       "      <th>2</th>\n",
       "      <td>4291</td>\n",
       "      <td>2013-06-27 14:58:00</td>\n",
       "      <td>2013-06-27 15:05</td>\n",
       "      <td>77</td>\n",
       "      <td>433</td>\n",
       "      <td>32</td>\n",
       "      <td>Racine Ave &amp; Congress Pkwy</td>\n",
       "      <td>19</td>\n",
       "      <td>Loomis St &amp; Taylor St</td>\n",
       "      <td>Customer</td>\n",
       "      <td>NaN</td>\n",
       "      <td>NaN</td>\n",
       "      <td>2013-06-27 15:05:00</td>\n",
       "    </tr>\n",
       "    <tr>\n",
       "      <th>3</th>\n",
       "      <td>4316</td>\n",
       "      <td>2013-06-27 15:06:00</td>\n",
       "      <td>2013-06-27 15:09</td>\n",
       "      <td>77</td>\n",
       "      <td>123</td>\n",
       "      <td>19</td>\n",
       "      <td>Loomis St &amp; Taylor St</td>\n",
       "      <td>19</td>\n",
       "      <td>Loomis St &amp; Taylor St</td>\n",
       "      <td>Customer</td>\n",
       "      <td>NaN</td>\n",
       "      <td>NaN</td>\n",
       "      <td>2013-06-27 15:09:00</td>\n",
       "    </tr>\n",
       "    <tr>\n",
       "      <th>4</th>\n",
       "      <td>4342</td>\n",
       "      <td>2013-06-27 15:13:00</td>\n",
       "      <td>2013-06-27 15:27</td>\n",
       "      <td>77</td>\n",
       "      <td>852</td>\n",
       "      <td>19</td>\n",
       "      <td>Loomis St &amp; Taylor St</td>\n",
       "      <td>55</td>\n",
       "      <td>Halsted St &amp; James M Rochford St</td>\n",
       "      <td>Customer</td>\n",
       "      <td>NaN</td>\n",
       "      <td>NaN</td>\n",
       "      <td>2013-06-27 15:27:00</td>\n",
       "    </tr>\n",
       "  </tbody>\n",
       "</table>\n",
       "</div>"
      ],
      "text/plain": [
       "   trip_id           starttime          stoptime  bikeid  tripduration  \\\n",
       "0     4118 2013-06-27 12:11:00  2013-06-27 12:16     480           316   \n",
       "1     4275 2013-06-27 14:44:00  2013-06-27 14:45      77            64   \n",
       "2     4291 2013-06-27 14:58:00  2013-06-27 15:05      77           433   \n",
       "3     4316 2013-06-27 15:06:00  2013-06-27 15:09      77           123   \n",
       "4     4342 2013-06-27 15:13:00  2013-06-27 15:27      77           852   \n",
       "\n",
       "   from_station_id           from_station_name  to_station_id  \\\n",
       "0               85       Michigan Ave & Oak St             28   \n",
       "1               32  Racine Ave & Congress Pkwy             32   \n",
       "2               32  Racine Ave & Congress Pkwy             19   \n",
       "3               19       Loomis St & Taylor St             19   \n",
       "4               19       Loomis St & Taylor St             55   \n",
       "\n",
       "                    to_station_name  usertype gender  birthday  \\\n",
       "0        Larrabee St & Menomonee St  Customer    NaN       NaN   \n",
       "1        Racine Ave & Congress Pkwy  Customer    NaN       NaN   \n",
       "2             Loomis St & Taylor St  Customer    NaN       NaN   \n",
       "3             Loomis St & Taylor St  Customer    NaN       NaN   \n",
       "4  Halsted St & James M Rochford St  Customer    NaN       NaN   \n",
       "\n",
       "            stopttime  \n",
       "0 2013-06-27 12:16:00  \n",
       "1 2013-06-27 14:45:00  \n",
       "2 2013-06-27 15:05:00  \n",
       "3 2013-06-27 15:09:00  \n",
       "4 2013-06-27 15:27:00  "
      ]
     },
     "execution_count": 70,
     "metadata": {},
     "output_type": "execute_result"
    }
   ],
   "source": [
    "users_2013.head()"
   ]
  },
  {
   "cell_type": "code",
   "execution_count": 126,
   "id": "cfed2ee7",
   "metadata": {},
   "outputs": [
    {
     "name": "stdout",
     "output_type": "stream",
     "text": [
      "A quantidade de dados faltosos:\n",
      "\n",
      "trip_id                   0\n",
      "starttime                 0\n",
      "stoptime                  0\n",
      "bikeid                    0\n",
      "tripduration              0\n",
      "from_station_id           0\n",
      "from_station_name         0\n",
      "to_station_id             0\n",
      "to_station_name           0\n",
      "usertype                  0\n",
      "gender               356742\n",
      "birthday             356879\n",
      "stopttime                 0\n",
      "dtype: int64\n"
     ]
    }
   ],
   "source": [
    "analyse(users_2013)"
   ]
  },
  {
   "cell_type": "code",
   "execution_count": 128,
   "id": "98b4d3f1",
   "metadata": {},
   "outputs": [
    {
     "name": "stdout",
     "output_type": "stream",
     "text": [
      "<class 'pandas.core.frame.DataFrame'>\n",
      "RangeIndex: 905699 entries, 0 to 905698\n",
      "Data columns (total 12 columns):\n",
      " #   Column             Non-Null Count   Dtype         \n",
      "---  ------             --------------   -----         \n",
      " 0   trip_id            905699 non-null  int64         \n",
      " 1   starttime          905699 non-null  datetime64[ns]\n",
      " 2   stoptime           905699 non-null  datetime64[ns]\n",
      " 3   bikeid             905699 non-null  int64         \n",
      " 4   tripduration       905699 non-null  int64         \n",
      " 5   from_station_id    905699 non-null  int64         \n",
      " 6   from_station_name  905699 non-null  object        \n",
      " 7   to_station_id      905699 non-null  int64         \n",
      " 8   to_station_name    905699 non-null  object        \n",
      " 9   usertype           905699 non-null  object        \n",
      " 10  gender             591677 non-null  object        \n",
      " 11  birthyear          591722 non-null  float64       \n",
      "dtypes: datetime64[ns](2), float64(1), int64(5), object(4)\n",
      "memory usage: 82.9+ MB\n"
     ]
    }
   ],
   "source": [
    "users_2014_1.info()"
   ]
  },
  {
   "cell_type": "code",
   "execution_count": null,
   "id": "478f676d",
   "metadata": {},
   "outputs": [],
   "source": []
  }
 ],
 "metadata": {
  "kernelspec": {
   "display_name": "Python 3 (ipykernel)",
   "language": "python",
   "name": "python3"
  },
  "language_info": {
   "codemirror_mode": {
    "name": "ipython",
    "version": 3
   },
   "file_extension": ".py",
   "mimetype": "text/x-python",
   "name": "python",
   "nbconvert_exporter": "python",
   "pygments_lexer": "ipython3",
   "version": "3.11.1"
  }
 },
 "nbformat": 4,
 "nbformat_minor": 5
}
